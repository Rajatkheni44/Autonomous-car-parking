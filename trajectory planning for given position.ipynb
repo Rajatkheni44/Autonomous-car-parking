{
 "cells": [
  {
   "cell_type": "code",
   "execution_count": 1,
   "id": "9a641e7e",
   "metadata": {},
   "outputs": [],
   "source": [
    "import numpy as np\n",
    "import matplotlib.pyplot as plt\n",
    "from mpl_toolkits.axisartist.axislines import SubplotZero\n",
    "from matplotlib.ticker import MultipleLocator\n",
    "from matplotlib.patches import Rectangle"
   ]
  },
  {
   "cell_type": "code",
   "execution_count": 2,
   "id": "0b23cb0b",
   "metadata": {},
   "outputs": [],
   "source": [
    "#input parameter \n",
    "initial_p = np.array([1.32559, 1.2061])\n",
    "# initial_p = np.array([1.32559, 2])\n",
    "l =  2.7       #wheel_base\n",
    "l_f =   0.89    # front_overhang\n",
    "l_r=   1.1      # rear_overhang\n",
    "r_min =   4.25   #minimum_turning_radius\n",
    "w = 1.86 #car_width"
   ]
  },
  {
   "cell_type": "code",
   "execution_count": 3,
   "id": "e2c430dd",
   "metadata": {},
   "outputs": [
    {
     "name": "stdout",
     "output_type": "stream",
     "text": [
      "Required total Parking length =  6.45706076127572\n",
      "Required total Parking width =  1.9755075299729294\n",
      "Reference point starting side =  [ 1.32559 -3.0439 ]\n",
      "Reference point final side=  [-5.35706076  3.32      ]\n",
      "Theta angle =  0.40993538140884106 degree\n",
      "G_1=  [1.32559 1.2061 ]\n",
      "G_2=  [-0.36824777  0.85397296]\n",
      "G_3=  [-3.66322299 -0.57787296]\n",
      "G_4=  [-5.35706076 -0.93      ]\n",
      "G1 to G2 arc length=  1.7422253709875746\n",
      "G2 to G3 arc length=  3.5926375279422422\n",
      "G3 to G4 arc length=  1.7422253709875746\n",
      "total arc length G1 to G4=  7.077088269917391\n"
     ]
    }
   ],
   "source": [
    "s_1 = np.sqrt((l + l_f)**2 + 2*r_min*w)    \n",
    "\n",
    "s_0 = s_1 + l_r          # distance between two obstacle\n",
    "print(\"Required total Parking length = \",s_0)\n",
    "\n",
    "s_2 = np.sqrt((r_min +(w/2))**2 + l_r**2) - (r_min-(w/2))      # min required width\n",
    "print(\"Required total Parking width = \",s_2)\n",
    "    \n",
    "    \n",
    "final_p = np.array([-s_1, -w/2])\n",
    "o_1 = np.array([initial_p[0],initial_p[1]-r_min])\n",
    "\n",
    "\n",
    "print(\"Reference point starting side = \",o_1)\n",
    "\n",
    "o_2 = np.array([-s_1, r_min-(w/2)])\n",
    "print(\"Reference point final side= \",o_2)\n",
    "\n",
    "theta = np.arcsin((initial_p[0] + s_1)/np.linalg.norm(o_1-o_2)) -np.arccos((2*r_min)/np.linalg.norm(o_1-o_2))\n",
    "print(\"Theta angle = \",theta,\"degree\")\n",
    "\n",
    "\n",
    "G_2 = np.array([initial_p[0]-r_min*(np.sin(theta)), initial_p[1]-r_min*(1 - np.cos(theta)) ])\n",
    "G_3 = np.array([-s_1 + r_min*np.sin(theta), r_min*(1-np.cos(theta)) - (w/2) ])\n",
    "print(\"G_1= \", initial_p)\n",
    "print(\"G_2= \",G_2)\n",
    "print(\"G_3= \", G_3)\n",
    "print(\"G_4= \", final_p)\n",
    "    \n",
    "first_arc_l = r_min*theta\n",
    "print(\"G1 to G2 arc length= \",first_arc_l)\n",
    "\n",
    "second_arc_l = np.linalg.norm(G_2-G_3)\n",
    "print(\"G2 to G3 arc length= \",second_arc_l )\n",
    "\n",
    "print( \"G3 to G4 arc length= \",first_arc_l)\n",
    "\n",
    "total_arc_l = 2*first_arc_l + second_arc_l\n",
    "\n",
    "print(\"total arc length G1 to G4= \",total_arc_l)"
   ]
  },
  {
   "cell_type": "code",
   "execution_count": 4,
   "id": "9d8348f6",
   "metadata": {},
   "outputs": [
    {
     "data": {
      "image/png": "[encoded data removed]",
      "text/plain": [
       "<Figure size 1080x1080 with 1 Axes>"
      ]
     },
     "metadata": {
      "needs_background": "light"
     },
     "output_type": "display_data"
    }
   ],
   "source": [
    "#ploting x and y axis\n",
    "fig = plt.figure(figsize=(15, 15))\n",
    "ax = SubplotZero(fig, 111)\n",
    "fig.add_subplot(ax)\n",
    "for direction in [\"left\", \"right\", \"bottom\", \"top\"]:\n",
    "    ax.axis[direction].set_visible(False)\n",
    "\n",
    "for direction in [\"xzero\", \"yzero\"]:\n",
    "    ax.axis[direction].set_axisline_style(\"-|>, size=-1\")\n",
    "    ax.axis[direction].set_visible(True)\n",
    "\n",
    "ax.add_patch(Rectangle((0, 0), (l+l_f+l_r), -w,color=\"black\"))\n",
    "ax.add_patch(Rectangle((-s_0, 0),-(l+l_f+l_r), -w,color=\"black\"))\n",
    "ax.add_patch(Rectangle((-s_0, 0), l+l_f+l_r, -w,color=\"yellow\"))\n",
    "ang = np.arctan((G_2[1]- G_3[1])/(G_2[0]-G_3[0]))\n",
    "ang = (ang*180)/np.pi\n",
    "ax.add_patch(Rectangle(G_3, l+l_f+l_r, w/2, angle = ang, color=\"yellow\"))\n",
    "ax.add_patch(Rectangle(G_3, l+l_f+l_r, -w/2, angle = ang, color=\"yellow\"))\n",
    "ax.add_patch(Rectangle((initial_p[0]-l_f, initial_p[1]), l+l_f+l_r, -w/2, color=\"blue\"))\n",
    "ax.add_patch(Rectangle((initial_p[0]-l_f, initial_p[1]), l+l_f+l_r, w/2, color=\"blue\"))\n",
    "    \n",
    "X = np.linspace(-5, 5, 200)\n",
    "Y = np.linspace(-5, 5, 200)\n",
    "x, y = np.meshgrid(X, Y)\n",
    "\n",
    "plot = plt.plot(x, y, ls='none')\n",
    "plot = plt.plot(o_1[0], o_1[1], marker='o')             #ploting o_1 center point\n",
    "\n",
    "#plot curve\n",
    "Angle1 = np.linspace((np.pi/2)+theta, np.pi/2, 150)\n",
    "\n",
    "Gx1 = r_min*np.cos(Angle1) + o_1[0]\n",
    "Gy1 = r_min*np.sin(Angle1) + o_1[1]\n",
    "plot = plt.plot(Gx1, Gy1)                               #ploting first curve \n",
    "\n",
    "plot = plt.plot(o_2[0], o_2[1], marker='o')             #ploting o_2 center point\n",
    "\n",
    "Angle2 = np.linspace(-(np.pi/2)+theta, -(np.pi/2), 150)\n",
    "Gx2 = r_min*np.cos(Angle2) + o_2[0]\n",
    "Gy2 = r_min*np.sin(Angle2) + o_2[1]\n",
    "plot = plt.plot(Gx2, Gy2)                               #ploting last curve\n",
    "\n",
    "Gx2 = [G_2[0], G_3[0]]\n",
    "Gy2 = [G_2[1], G_3[1]]\n",
    "plot = plt.plot(Gx2, Gy2)                               #ploting stright line\n",
    "\n",
    "rx1 = [o_1[0], initial_p[0]]\n",
    "ry1 = [o_1[1], initial_p[1]]\n",
    "plot = plt.plot(rx1, ry1, linestyle='--', color='r')\n",
    "\n",
    "rx2 = [o_2[0], final_p[0]]\n",
    "ry2 = [o_2[1], final_p[1]]\n",
    "plot = plt.plot(rx2, ry2, linestyle='--', color='r')\n",
    "\n",
    "plt.text(o_1[0]-0.015, o_1[1]-0.25, \"O_1\")\n",
    "plt.text(o_2[0]-0.050, o_2[1]+0.25, \"O_2\")\n",
    "plt.text(initial_p[0]-0.050, initial_p[1]+0.25, \"G_1\")\n",
    "plt.text(G_2[0]-0.050, G_2[1]-0.25, \"G_2\")\n",
    "plt.text(G_3[0]-0.050, G_3[1]-0.25, \"G_3\")\n",
    "plt.text(final_p[0]-0.050, final_p[1]-0.25, \"G_4\")\n",
    "\n",
    "spacing = 1\n",
    "minorLocator = MultipleLocator(spacing)\n",
    "ax.plot(o_1[0], o_1[1], marker='o')\n",
    "# Set minor tick locations.\n",
    "ax.yaxis.set_minor_locator(minorLocator)\n",
    "ax.xaxis.set_minor_locator(minorLocator)\n",
    "# Set grid to use minor tick locations. \n",
    "ax.grid(which = 'minor', axis='both')\n",
    "plt.gca().set_aspect('equal', adjustable='box')\n",
    "plt.savefig('Path planning for given position.png')\n",
    "\n",
    "plt.show()"
   ]
  }
 ],
 "metadata": {
  "kernelspec": {
   "display_name": "Python 3 (ipykernel)",
   "language": "python",
   "name": "python3"
  },
  "language_info": {
   "codemirror_mode": {
    "name": "ipython",
    "version": 3
   },
   "file_extension": ".py",
   "mimetype": "text/x-python",
   "name": "python",
   "nbconvert_exporter": "python",
   "pygments_lexer": "ipython3",
   "version": "3.7.9"
  }
 },
 "nbformat": 4,
 "nbformat_minor": 5
}
